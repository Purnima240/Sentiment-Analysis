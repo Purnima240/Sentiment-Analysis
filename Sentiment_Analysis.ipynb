{
 "cells": [
  {
   "cell_type": "code",
   "execution_count": 1,
   "id": "849aab9c-f049-42d8-9a5a-b0e824737748",
   "metadata": {},
   "outputs": [],
   "source": [
    "import pandas as pd"
   ]
  },
  {
   "cell_type": "code",
   "execution_count": 2,
   "id": "89305557-ca3f-46ef-9cac-0bba5d48d8f1",
   "metadata": {},
   "outputs": [],
   "source": [
    "df= pd.read_csv('Sentiment.csv')"
   ]
  },
  {
   "cell_type": "code",
   "execution_count": 3,
   "id": "68fd719b-2b06-4ee4-ad7b-a4242b994641",
   "metadata": {},
   "outputs": [
    {
     "data": {
      "text/html": [
       "<div>\n",
       "<style scoped>\n",
       "    .dataframe tbody tr th:only-of-type {\n",
       "        vertical-align: middle;\n",
       "    }\n",
       "\n",
       "    .dataframe tbody tr th {\n",
       "        vertical-align: top;\n",
       "    }\n",
       "\n",
       "    .dataframe thead th {\n",
       "        text-align: right;\n",
       "    }\n",
       "</style>\n",
       "<table border=\"1\" class=\"dataframe\">\n",
       "  <thead>\n",
       "    <tr style=\"text-align: right;\">\n",
       "      <th></th>\n",
       "      <th>review</th>\n",
       "      <th>sentiment</th>\n",
       "    </tr>\n",
       "  </thead>\n",
       "  <tbody>\n",
       "    <tr>\n",
       "      <th>0</th>\n",
       "      <td>One of the other reviewers has mentioned that ...</td>\n",
       "      <td>positive</td>\n",
       "    </tr>\n",
       "    <tr>\n",
       "      <th>1</th>\n",
       "      <td>A wonderful little production. &lt;br /&gt;&lt;br /&gt;The...</td>\n",
       "      <td>positive</td>\n",
       "    </tr>\n",
       "    <tr>\n",
       "      <th>2</th>\n",
       "      <td>I thought this was a wonderful way to spend ti...</td>\n",
       "      <td>positive</td>\n",
       "    </tr>\n",
       "    <tr>\n",
       "      <th>3</th>\n",
       "      <td>Basically there's a family where a little boy ...</td>\n",
       "      <td>negative</td>\n",
       "    </tr>\n",
       "    <tr>\n",
       "      <th>4</th>\n",
       "      <td>Petter Mattei's \"Love in the Time of Money\" is...</td>\n",
       "      <td>positive</td>\n",
       "    </tr>\n",
       "  </tbody>\n",
       "</table>\n",
       "</div>"
      ],
      "text/plain": [
       "                                              review sentiment\n",
       "0  One of the other reviewers has mentioned that ...  positive\n",
       "1  A wonderful little production. <br /><br />The...  positive\n",
       "2  I thought this was a wonderful way to spend ti...  positive\n",
       "3  Basically there's a family where a little boy ...  negative\n",
       "4  Petter Mattei's \"Love in the Time of Money\" is...  positive"
      ]
     },
     "execution_count": 3,
     "metadata": {},
     "output_type": "execute_result"
    }
   ],
   "source": [
    "df.head()"
   ]
  },
  {
   "cell_type": "code",
   "execution_count": 4,
   "id": "250c2862-86c8-4768-adb8-3b723e347ba1",
   "metadata": {},
   "outputs": [
    {
     "data": {
      "text/plain": [
       "sentiment\n",
       "positive    25000\n",
       "negative    25000\n",
       "Name: count, dtype: int64"
      ]
     },
     "execution_count": 4,
     "metadata": {},
     "output_type": "execute_result"
    }
   ],
   "source": [
    "df['sentiment'].value_counts()"
   ]
  },
  {
   "cell_type": "code",
   "execution_count": 5,
   "id": "cf945ef3-ca39-4813-8247-7f6f69f4463f",
   "metadata": {},
   "outputs": [
    {
     "data": {
      "text/plain": [
       "\"I watched this film not really expecting much, I got it in a pack of 5 films, all of which were pretty terrible in their own way for under a fiver so what could I expect? and you know what I was right, they were all terrible, this movie has a few (and a few is stretching it) interesting points, the occasional camcorder view is a nice touch, the drummer is very like a drummer, i.e damned annoying and, well thats about it actually, the problem is that its just so boring, in what I can only assume was an attempt to build tension, a whole lot of nothing happens and when it does its utterly tedious (I had my thumb on the fast forward button, ready to press for most of the movie, but gave it a go) and seriously is the lead singer of the band that great looking, coz they don't half mention how beautiful he is a hell of a lot, I thought he looked a bit like a meercat, all this and I haven't even mentioned the killer, I'm not even gonna go into it, its just not worth explaining. Anyway as far as I'm concerned Star and London are just about the only reason to watch this and with the exception of London (who was actually quite funny) it wasn't because of their acting talent, I've certainly seen a lot worse, but I've also seen a lot better. Best avoid unless your bored of watching paint dry.\""
      ]
     },
     "execution_count": 5,
     "metadata": {},
     "output_type": "execute_result"
    }
   ],
   "source": [
    "df['review'][34]"
   ]
  },
  {
   "cell_type": "code",
   "execution_count": 6,
   "id": "103ad759-768d-4589-a0ac-7c065f62d506",
   "metadata": {},
   "outputs": [
    {
     "data": {
      "text/plain": [
       "'negative'"
      ]
     },
     "execution_count": 6,
     "metadata": {},
     "output_type": "execute_result"
    }
   ],
   "source": [
    "df['sentiment'][34]"
   ]
  },
  {
   "cell_type": "code",
   "execution_count": 14,
   "id": "d32ce5fe-6845-4fe5-89b2-b710f92564f3",
   "metadata": {},
   "outputs": [],
   "source": [
    "df['review']= df['review'].str.lower()"
   ]
  },
  {
   "cell_type": "code",
   "execution_count": 15,
   "id": "29f4937d-303e-4320-a2ba-4f023c52690f",
   "metadata": {},
   "outputs": [
    {
     "data": {
      "text/plain": [
       "0        one of the other reviewers has mentioned that ...\n",
       "1        a wonderful little production. <br /><br />the...\n",
       "2        i thought this was a wonderful way to spend ti...\n",
       "3        basically there's a family where a little boy ...\n",
       "4        petter mattei's \"love in the time of money\" is...\n",
       "                               ...                        \n",
       "49995    i thought this movie did a down right good job...\n",
       "49996    bad plot, bad dialogue, bad acting, idiotic di...\n",
       "49997    i am a catholic taught in parochial elementary...\n",
       "49998    i'm going to have to disagree with the previou...\n",
       "49999    no one expects the star trek movies to be high...\n",
       "Name: review, Length: 50000, dtype: object"
      ]
     },
     "execution_count": 15,
     "metadata": {},
     "output_type": "execute_result"
    }
   ],
   "source": [
    "df['review']"
   ]
  },
  {
   "cell_type": "code",
   "execution_count": 22,
   "id": "f24ab1d6-ef54-43a2-b106-8358315720b5",
   "metadata": {},
   "outputs": [],
   "source": [
    "import re \n",
    "def remove_html(text):\n",
    "    CLEANR = re.compile('<.*?>|&([a-z0-9]+|#[0-9]{1,6}|#x[0-9a-f]{1,6});')\n",
    "    return CLEANR.sub(r'' , text)"
   ]
  },
  {
   "cell_type": "code",
   "execution_count": 23,
   "id": "c0c3171b-d625-4051-8107-afa3ecaaaa11",
   "metadata": {},
   "outputs": [],
   "source": [
    "df['review']= df['review'].apply(remove_html)"
   ]
  },
  {
   "cell_type": "code",
   "execution_count": 25,
   "id": "2dc8c279-13ee-4d23-a44d-1153759fa361",
   "metadata": {},
   "outputs": [
    {
     "data": {
      "text/plain": [
       "'i thought this was a wonderful way to spend time on a too hot summer weekend, sitting in the air conditioned theater and watching a light-hearted comedy. the plot is simplistic, but the dialogue is witty and the characters are likable (even the well bread suspected serial killer). while some may be disappointed when they realize this is not match point 2: risk addiction, i thought it was proof that woody allen is still fully in control of the style many of us have grown to love.this was the most i\\'d laughed at one of woody\\'s comedies in years (dare i say a decade?). while i\\'ve never been impressed with scarlet johanson, in this she managed to tone down her \"sexy\" image and jumped right into a average, but spirited young woman.this may not be the crown jewel of his career, but it was wittier than \"devil wears prada\" and more interesting than \"superman\" a great comedy to go see with friends.'"
      ]
     },
     "execution_count": 25,
     "metadata": {},
     "output_type": "execute_result"
    }
   ],
   "source": [
    "df['review'][2]"
   ]
  },
  {
   "cell_type": "code",
   "execution_count": 26,
   "id": "abcfb608-c1c9-428e-a0e1-e6956b35c2f1",
   "metadata": {},
   "outputs": [],
   "source": [
    "import string \n",
    "from string import punctuation"
   ]
  },
  {
   "cell_type": "code",
   "execution_count": 27,
   "id": "eb2420a0-a432-431c-836f-825e5e296e11",
   "metadata": {},
   "outputs": [],
   "source": [
    "ex= string.punctuation"
   ]
  },
  {
   "cell_type": "code",
   "execution_count": 28,
   "id": "29093a8d-73df-4c9f-b191-9387794984ad",
   "metadata": {},
   "outputs": [
    {
     "data": {
      "text/plain": [
       "'!\"#$%&\\'()*+,-./:;<=>?@[\\\\]^_`{|}~'"
      ]
     },
     "execution_count": 28,
     "metadata": {},
     "output_type": "execute_result"
    }
   ],
   "source": [
    "ex"
   ]
  },
  {
   "cell_type": "code",
   "execution_count": 30,
   "id": "605957f7-7b4d-46d6-966b-24064a523e88",
   "metadata": {},
   "outputs": [],
   "source": [
    "def pun(text):\n",
    "    for i in ex :\n",
    "        text = text.replace(i ,'')\n",
    "    return text  "
   ]
  },
  {
   "cell_type": "code",
   "execution_count": 31,
   "id": "3ed1ab86-0a10-4274-abb1-ee4cd689e152",
   "metadata": {},
   "outputs": [],
   "source": [
    "df['review']= df['review'].apply(pun)"
   ]
  },
  {
   "cell_type": "code",
   "execution_count": 32,
   "id": "98badaaa-5acc-46bb-b937-4db890cff8ec",
   "metadata": {},
   "outputs": [
    {
     "data": {
      "text/plain": [
       "0        one of the other reviewers has mentioned that ...\n",
       "1        a wonderful little production the filming tech...\n",
       "2        i thought this was a wonderful way to spend ti...\n",
       "3        basically theres a family where a little boy j...\n",
       "4        petter matteis love in the time of money is a ...\n",
       "                               ...                        \n",
       "49995    i thought this movie did a down right good job...\n",
       "49996    bad plot bad dialogue bad acting idiotic direc...\n",
       "49997    i am a catholic taught in parochial elementary...\n",
       "49998    im going to have to disagree with the previous...\n",
       "49999    no one expects the star trek movies to be high...\n",
       "Name: review, Length: 50000, dtype: object"
      ]
     },
     "execution_count": 32,
     "metadata": {},
     "output_type": "execute_result"
    }
   ],
   "source": [
    "df['review']"
   ]
  },
  {
   "cell_type": "code",
   "execution_count": 33,
   "id": "f439d725-5117-4074-b3f3-6b8ae8800e51",
   "metadata": {},
   "outputs": [
    {
     "data": {
      "text/plain": [
       "'i thought this was a wonderful way to spend time on a too hot summer weekend sitting in the air conditioned theater and watching a lighthearted comedy the plot is simplistic but the dialogue is witty and the characters are likable even the well bread suspected serial killer while some may be disappointed when they realize this is not match point 2 risk addiction i thought it was proof that woody allen is still fully in control of the style many of us have grown to lovethis was the most id laughed at one of woodys comedies in years dare i say a decade while ive never been impressed with scarlet johanson in this she managed to tone down her sexy image and jumped right into a average but spirited young womanthis may not be the crown jewel of his career but it was wittier than devil wears prada and more interesting than superman a great comedy to go see with friends'"
      ]
     },
     "execution_count": 33,
     "metadata": {},
     "output_type": "execute_result"
    }
   ],
   "source": [
    "df['review'][2]"
   ]
  },
  {
   "cell_type": "code",
   "execution_count": 34,
   "id": "4c547fd1-1121-4f2f-8f55-e201e31f4a65",
   "metadata": {},
   "outputs": [
    {
     "data": {
      "text/html": [
       "<div>\n",
       "<style scoped>\n",
       "    .dataframe tbody tr th:only-of-type {\n",
       "        vertical-align: middle;\n",
       "    }\n",
       "\n",
       "    .dataframe tbody tr th {\n",
       "        vertical-align: top;\n",
       "    }\n",
       "\n",
       "    .dataframe thead th {\n",
       "        text-align: right;\n",
       "    }\n",
       "</style>\n",
       "<table border=\"1\" class=\"dataframe\">\n",
       "  <thead>\n",
       "    <tr style=\"text-align: right;\">\n",
       "      <th></th>\n",
       "      <th>review</th>\n",
       "      <th>sentiment</th>\n",
       "    </tr>\n",
       "  </thead>\n",
       "  <tbody>\n",
       "    <tr>\n",
       "      <th>6919</th>\n",
       "      <td>right this may be the wine talking but this co...</td>\n",
       "      <td>positive</td>\n",
       "    </tr>\n",
       "    <tr>\n",
       "      <th>19915</th>\n",
       "      <td>i love this movie but cant get what is in this...</td>\n",
       "      <td>positive</td>\n",
       "    </tr>\n",
       "    <tr>\n",
       "      <th>32633</th>\n",
       "      <td>i loved this moviemovies and plays fulfill the...</td>\n",
       "      <td>positive</td>\n",
       "    </tr>\n",
       "    <tr>\n",
       "      <th>35972</th>\n",
       "      <td>let me first just say that in the past i have ...</td>\n",
       "      <td>negative</td>\n",
       "    </tr>\n",
       "    <tr>\n",
       "      <th>38078</th>\n",
       "      <td>this is a warm funny film in much the same vei...</td>\n",
       "      <td>positive</td>\n",
       "    </tr>\n",
       "    <tr>\n",
       "      <th>...</th>\n",
       "      <td>...</td>\n",
       "      <td>...</td>\n",
       "    </tr>\n",
       "    <tr>\n",
       "      <th>1825</th>\n",
       "      <td>good boring or bad its good worth your money i...</td>\n",
       "      <td>positive</td>\n",
       "    </tr>\n",
       "    <tr>\n",
       "      <th>36399</th>\n",
       "      <td>this may sound crazy to even the people who re...</td>\n",
       "      <td>negative</td>\n",
       "    </tr>\n",
       "    <tr>\n",
       "      <th>26335</th>\n",
       "      <td>when i saw the trailer for this film i said ou...</td>\n",
       "      <td>positive</td>\n",
       "    </tr>\n",
       "    <tr>\n",
       "      <th>47178</th>\n",
       "      <td>ok so in any wile e coyoteroad runner cartoons...</td>\n",
       "      <td>positive</td>\n",
       "    </tr>\n",
       "    <tr>\n",
       "      <th>41041</th>\n",
       "      <td>when it opened in london during the christmas ...</td>\n",
       "      <td>positive</td>\n",
       "    </tr>\n",
       "  </tbody>\n",
       "</table>\n",
       "<p>100 rows × 2 columns</p>\n",
       "</div>"
      ],
      "text/plain": [
       "                                                  review sentiment\n",
       "6919   right this may be the wine talking but this co...  positive\n",
       "19915  i love this movie but cant get what is in this...  positive\n",
       "32633  i loved this moviemovies and plays fulfill the...  positive\n",
       "35972  let me first just say that in the past i have ...  negative\n",
       "38078  this is a warm funny film in much the same vei...  positive\n",
       "...                                                  ...       ...\n",
       "1825   good boring or bad its good worth your money i...  positive\n",
       "36399  this may sound crazy to even the people who re...  negative\n",
       "26335  when i saw the trailer for this film i said ou...  positive\n",
       "47178  ok so in any wile e coyoteroad runner cartoons...  positive\n",
       "41041  when it opened in london during the christmas ...  positive\n",
       "\n",
       "[100 rows x 2 columns]"
      ]
     },
     "execution_count": 34,
     "metadata": {},
     "output_type": "execute_result"
    }
   ],
   "source": [
    "df.sample(100)"
   ]
  },
  {
   "cell_type": "code",
   "execution_count": 35,
   "id": "6f0d8c6d-9b0f-41af-b48d-188b646fb4ca",
   "metadata": {},
   "outputs": [
    {
     "data": {
      "text/plain": [
       "(50000, 2)"
      ]
     },
     "execution_count": 35,
     "metadata": {},
     "output_type": "execute_result"
    }
   ],
   "source": [
    "df.shape"
   ]
  },
  {
   "cell_type": "code",
   "execution_count": 45,
   "id": "044cf405-e813-4d1a-bc71-96ef997ae6d7",
   "metadata": {},
   "outputs": [
    {
     "name": "stdout",
     "output_type": "stream",
     "text": [
      "{'AFAIK': 'As Far As I Know', 'AFK': 'Away From Keyboard', 'ASAP': 'As Soon As Possible', 'ATK': 'At The Keyboard', 'ATM': 'At The Moment', 'A3': 'Anytime, Anywhere, Anyplace', 'BAK': 'Back At Keyboard', 'BBL': 'Be Back Later', 'BBS': 'Be Back Soon', 'BFN': 'Bye For Now', 'B4N': 'Bye For Now', 'BRB': 'Be Right Back', 'BRT': 'Be Right There', 'BTW': 'By The Way', 'B4': 'Before', 'CU': 'See You', 'CUL8R': 'See You Later', 'CYA': 'See You', 'FAQ': 'Frequently Asked Questions', 'FC': 'Fingers Crossed', 'FWIW': \"For What It's Worth\", 'FYI': 'For Your Information', 'GAL': 'Get A Life', 'GG': 'Good Game', 'GN': 'Good Night', 'GMTA': 'Great Minds Think Alike', 'GR8': 'Great!', 'G9': 'Genius', 'IC': 'I See', 'ICQ': 'I Seek you (also a chat program)', 'ILU': 'ILU: I Love You', 'IMHO': 'In My Honest/Humble Opinion', 'IMO': 'In My Opinion', 'IOW': 'In Other Words', 'IRL': 'In Real Life', 'KISS': 'Keep It Simple, Stupid', 'LDR': 'Long Distance Relationship', 'LMAO': 'Laugh My A.. Off', 'LOL': 'Laughing Out Loud', 'LTNS': 'Long Time No See', 'L8R': 'Later', 'MTE': 'My Thoughts Exactly', 'M8': 'Mate', 'NRN': 'No Reply Necessary', 'OIC': 'Oh I See', 'PITA': 'Pain In The A..', 'PRT': 'Party', 'PRW': 'Parents Are Watching', 'ROFL': 'Rolling On The Floor Laughing', 'ROFLOL': 'Rolling On The Floor Laughing Out Loud', 'ROTFLMAO': 'Rolling On The Floor Laughing My A.. Off', 'SK8': 'Skate', 'STATS': 'Your sex and age', 'ASL': 'Age, Sex, Location', 'THX': 'Thank You', 'TTFN': 'Ta-Ta For Now!', 'TTYL': 'Talk To You Later', 'U': 'You', 'U2': 'You Too', 'U4E': 'Yours For Ever', 'WB': 'Welcome Back', 'WTF': 'What The F...', 'WTG': 'Way To Go!', 'WUF': 'Where Are You From?', 'W8': 'Wait...', '7K': 'Sick:-D Laugher'}\n"
     ]
    }
   ],
   "source": [
    "chat_words = \"\"\"\n",
    "AFAIK=As Far As I Know\n",
    "AFK=Away From Keyboard\n",
    "ASAP=As Soon As Possible\n",
    "ATK=At The Keyboard\n",
    "ATM=At The Moment\n",
    "A3=Anytime, Anywhere, Anyplace\n",
    "BAK=Back At Keyboard\n",
    "BBL=Be Back Later\n",
    "BBS=Be Back Soon\n",
    "BFN=Bye For Now\n",
    "B4N=Bye For Now\n",
    "BRB=Be Right Back\n",
    "BRT=Be Right There\n",
    "BTW=By The Way\n",
    "B4=Before\n",
    "B4N=Bye For Now\n",
    "CU=See You\n",
    "CUL8R=See You Later\n",
    "CYA=See You\n",
    "FAQ=Frequently Asked Questions\n",
    "FC=Fingers Crossed\n",
    "FWIW=For What It's Worth\n",
    "FYI=For Your Information\n",
    "GAL=Get A Life\n",
    "GG=Good Game\n",
    "GN=Good Night\n",
    "GMTA=Great Minds Think Alike\n",
    "GR8=Great!\n",
    "G9=Genius\n",
    "IC=I See\n",
    "ICQ=I Seek you (also a chat program)\n",
    "ILU=ILU: I Love You\n",
    "IMHO=In My Honest/Humble Opinion\n",
    "IMO=In My Opinion\n",
    "IOW=In Other Words\n",
    "IRL=In Real Life\n",
    "KISS=Keep It Simple, Stupid\n",
    "LDR=Long Distance Relationship\n",
    "LMAO=Laugh My A.. Off\n",
    "LOL=Laughing Out Loud\n",
    "LTNS=Long Time No See\n",
    "L8R=Later\n",
    "MTE=My Thoughts Exactly\n",
    "M8=Mate\n",
    "NRN=No Reply Necessary\n",
    "OIC=Oh I See\n",
    "PITA=Pain In The A..\n",
    "PRT=Party\n",
    "PRW=Parents Are Watching\n",
    "QPSA?\tQue Pasa?\n",
    "ROFL=Rolling On The Floor Laughing\n",
    "ROFLOL=Rolling On The Floor Laughing Out Loud\n",
    "ROTFLMAO=Rolling On The Floor Laughing My A.. Off\n",
    "SK8=Skate\n",
    "STATS=Your sex and age\n",
    "ASL=Age, Sex, Location\n",
    "THX=Thank You\n",
    "TTFN=Ta-Ta For Now!\n",
    "TTYL=Talk To You Later\n",
    "U=You\n",
    "U2=You Too\n",
    "U4E=Yours For Ever\n",
    "WB=Welcome Back\n",
    "WTF=What The F...\n",
    "WTG=Way To Go!\n",
    "WUF=Where Are You From?\n",
    "W8=Wait...\n",
    "7K=Sick:-D Laugher\n",
    "\"\"\"\n",
    "\n",
    "chat_dict = {}\n",
    "for line in chat_words.strip().splitlines():\n",
    "    if \"=\" in line:\n",
    "        key, value = line.split(\"=\", 1)\n",
    "        chat_dict[key.strip()] = value.strip()\n",
    "\n",
    "print(chat_dict)\n"
   ]
  },
  {
   "cell_type": "code",
   "execution_count": 48,
   "id": "1703779b-de06-47db-9ed1-c8d6f54f8a45",
   "metadata": {},
   "outputs": [],
   "source": [
    "def chat_removal(text):\n",
    "    for key, value in chat_dict.items():\n",
    "        if key in text :\n",
    "            text= text.replace(key, value)\n",
    "    return text "
   ]
  },
  {
   "cell_type": "code",
   "execution_count": 49,
   "id": "8e3a21bd-ca4f-4e1d-8ead-abe08768ec12",
   "metadata": {},
   "outputs": [],
   "source": [
    "df['review']= df['review'].apply(chat_removal)"
   ]
  },
  {
   "cell_type": "code",
   "execution_count": 51,
   "id": "533e6646-9f11-4e13-a19e-664de7a0e23f",
   "metadata": {},
   "outputs": [
    {
     "data": {
      "text/plain": [
       "'i thought this was a wonderful way to spend time on a too hot summer weekend sitting in the air conditioned theater and watching a lighthearted comedy the plot is simplistic but the dialogue is witty and the characters are likable even the well bread suspected serial killer while some may be disappointed when they realize this is not match point 2 risk addiction i thought it was proof that woody allen is still fully in control of the style many of us have grown to lovethis was the most id laughed at one of woodys comedies in years dare i say a decade while ive never been impressed with scarlet johanson in this she managed to tone down her sexy image and jumped right into a average but spirited young womanthis may not be the crown jewel of his career but it was wittier than devil wears prada and more interesting than superman a great comedy to go see with friends'"
      ]
     },
     "execution_count": 51,
     "metadata": {},
     "output_type": "execute_result"
    }
   ],
   "source": [
    "df['review'][2]"
   ]
  },
  {
   "cell_type": "code",
   "execution_count": 64,
   "id": "2e687e52-96fa-470b-95ae-d3a2af785ed0",
   "metadata": {},
   "outputs": [],
   "source": [
    "from nltk.tokenize import sent_tokenize, word_tokenize "
   ]
  },
  {
   "cell_type": "code",
   "execution_count": 65,
   "id": "8a69d2fe-3d75-4994-805a-387ab1475596",
   "metadata": {},
   "outputs": [],
   "source": [
    "def tok(text):\n",
    "    text = word_tokenize(text)\n",
    "    return text"
   ]
  },
  {
   "cell_type": "code",
   "execution_count": 67,
   "id": "140b1585-e8b6-4cbf-9673-7b2638a86d26",
   "metadata": {},
   "outputs": [],
   "source": [
    "df['review'] = df['review'].apply(tok)"
   ]
  },
  {
   "cell_type": "code",
   "execution_count": 68,
   "id": "c12cd632-1a34-4f13-94a3-91d3919cc423",
   "metadata": {},
   "outputs": [
    {
     "data": {
      "text/plain": [
       "['i',\n",
       " 'thought',\n",
       " 'this',\n",
       " 'was',\n",
       " 'a',\n",
       " 'wonderful',\n",
       " 'way',\n",
       " 'to',\n",
       " 'spend',\n",
       " 'time',\n",
       " 'on',\n",
       " 'a',\n",
       " 'too',\n",
       " 'hot',\n",
       " 'summer',\n",
       " 'weekend',\n",
       " 'sitting',\n",
       " 'in',\n",
       " 'the',\n",
       " 'air',\n",
       " 'conditioned',\n",
       " 'theater',\n",
       " 'and',\n",
       " 'watching',\n",
       " 'a',\n",
       " 'lighthearted',\n",
       " 'comedy',\n",
       " 'the',\n",
       " 'plot',\n",
       " 'is',\n",
       " 'simplistic',\n",
       " 'but',\n",
       " 'the',\n",
       " 'dialogue',\n",
       " 'is',\n",
       " 'witty',\n",
       " 'and',\n",
       " 'the',\n",
       " 'characters',\n",
       " 'are',\n",
       " 'likable',\n",
       " 'even',\n",
       " 'the',\n",
       " 'well',\n",
       " 'bread',\n",
       " 'suspected',\n",
       " 'serial',\n",
       " 'killer',\n",
       " 'while',\n",
       " 'some',\n",
       " 'may',\n",
       " 'be',\n",
       " 'disappointed',\n",
       " 'when',\n",
       " 'they',\n",
       " 'realize',\n",
       " 'this',\n",
       " 'is',\n",
       " 'not',\n",
       " 'match',\n",
       " 'point',\n",
       " '2',\n",
       " 'risk',\n",
       " 'addiction',\n",
       " 'i',\n",
       " 'thought',\n",
       " 'it',\n",
       " 'was',\n",
       " 'proof',\n",
       " 'that',\n",
       " 'woody',\n",
       " 'allen',\n",
       " 'is',\n",
       " 'still',\n",
       " 'fully',\n",
       " 'in',\n",
       " 'control',\n",
       " 'of',\n",
       " 'the',\n",
       " 'style',\n",
       " 'many',\n",
       " 'of',\n",
       " 'us',\n",
       " 'have',\n",
       " 'grown',\n",
       " 'to',\n",
       " 'lovethis',\n",
       " 'was',\n",
       " 'the',\n",
       " 'most',\n",
       " 'id',\n",
       " 'laughed',\n",
       " 'at',\n",
       " 'one',\n",
       " 'of',\n",
       " 'woodys',\n",
       " 'comedies',\n",
       " 'in',\n",
       " 'years',\n",
       " 'dare',\n",
       " 'i',\n",
       " 'say',\n",
       " 'a',\n",
       " 'decade',\n",
       " 'while',\n",
       " 'ive',\n",
       " 'never',\n",
       " 'been',\n",
       " 'impressed',\n",
       " 'with',\n",
       " 'scarlet',\n",
       " 'johanson',\n",
       " 'in',\n",
       " 'this',\n",
       " 'she',\n",
       " 'managed',\n",
       " 'to',\n",
       " 'tone',\n",
       " 'down',\n",
       " 'her',\n",
       " 'sexy',\n",
       " 'image',\n",
       " 'and',\n",
       " 'jumped',\n",
       " 'right',\n",
       " 'into',\n",
       " 'a',\n",
       " 'average',\n",
       " 'but',\n",
       " 'spirited',\n",
       " 'young',\n",
       " 'womanthis',\n",
       " 'may',\n",
       " 'not',\n",
       " 'be',\n",
       " 'the',\n",
       " 'crown',\n",
       " 'jewel',\n",
       " 'of',\n",
       " 'his',\n",
       " 'career',\n",
       " 'but',\n",
       " 'it',\n",
       " 'was',\n",
       " 'wittier',\n",
       " 'than',\n",
       " 'devil',\n",
       " 'wears',\n",
       " 'prada',\n",
       " 'and',\n",
       " 'more',\n",
       " 'interesting',\n",
       " 'than',\n",
       " 'superman',\n",
       " 'a',\n",
       " 'great',\n",
       " 'comedy',\n",
       " 'to',\n",
       " 'go',\n",
       " 'see',\n",
       " 'with',\n",
       " 'friends']"
      ]
     },
     "execution_count": 68,
     "metadata": {},
     "output_type": "execute_result"
    }
   ],
   "source": [
    "df['review'][2]"
   ]
  },
  {
   "cell_type": "code",
   "execution_count": 94,
   "id": "72b85ed9-1842-4a3d-86c9-d83202aacb5a",
   "metadata": {},
   "outputs": [
    {
     "name": "stderr",
     "output_type": "stream",
     "text": [
      "[nltk_data] Downloading package wordnet to\n",
      "[nltk_data]     C:\\Users\\purni\\AppData\\Roaming\\nltk_data...\n",
      "[nltk_data]   Package wordnet is already up-to-date!\n"
     ]
    }
   ],
   "source": [
    "import nltk\n",
    "nltk.download('wordnet')\n",
    "from nltk.stem import WordNetLemmatizer\n"
   ]
  },
  {
   "cell_type": "code",
   "execution_count": 96,
   "id": "6e11c265-4493-4a36-9f6e-c50a11532cd4",
   "metadata": {},
   "outputs": [],
   "source": [
    "wnl = WordNetLemmatizer()\n"
   ]
  },
  {
   "cell_type": "code",
   "execution_count": 99,
   "id": "f69534ad-c90d-48e5-a90d-5f3cf4e8e786",
   "metadata": {},
   "outputs": [],
   "source": [
    "def lem(word_list):\n",
    "    return [wnl.lemmatize(word) for word in word_list]"
   ]
  },
  {
   "cell_type": "code",
   "execution_count": 100,
   "id": "ee274e40-94ff-4cb5-82b2-935bff2487d7",
   "metadata": {},
   "outputs": [],
   "source": [
    "df['review'] = df['review'].apply(lem)\n",
    "\n",
    "\n"
   ]
  },
  {
   "cell_type": "code",
   "execution_count": 102,
   "id": "59c3876a-a2ab-4f4a-ad2e-3c2ab1a69c04",
   "metadata": {},
   "outputs": [
    {
     "data": {
      "text/plain": [
       "['i',\n",
       " 'thought',\n",
       " 'this',\n",
       " 'wa',\n",
       " 'a',\n",
       " 'wonderful',\n",
       " 'way',\n",
       " 'to',\n",
       " 'spend',\n",
       " 'time',\n",
       " 'on',\n",
       " 'a',\n",
       " 'too',\n",
       " 'hot',\n",
       " 'summer',\n",
       " 'weekend',\n",
       " 'sitting',\n",
       " 'in',\n",
       " 'the',\n",
       " 'air',\n",
       " 'conditioned',\n",
       " 'theater',\n",
       " 'and',\n",
       " 'watching',\n",
       " 'a',\n",
       " 'lighthearted',\n",
       " 'comedy',\n",
       " 'the',\n",
       " 'plot',\n",
       " 'is',\n",
       " 'simplistic',\n",
       " 'but',\n",
       " 'the',\n",
       " 'dialogue',\n",
       " 'is',\n",
       " 'witty',\n",
       " 'and',\n",
       " 'the',\n",
       " 'character',\n",
       " 'are',\n",
       " 'likable',\n",
       " 'even',\n",
       " 'the',\n",
       " 'well',\n",
       " 'bread',\n",
       " 'suspected',\n",
       " 'serial',\n",
       " 'killer',\n",
       " 'while',\n",
       " 'some',\n",
       " 'may',\n",
       " 'be',\n",
       " 'disappointed',\n",
       " 'when',\n",
       " 'they',\n",
       " 'realize',\n",
       " 'this',\n",
       " 'is',\n",
       " 'not',\n",
       " 'match',\n",
       " 'point',\n",
       " '2',\n",
       " 'risk',\n",
       " 'addiction',\n",
       " 'i',\n",
       " 'thought',\n",
       " 'it',\n",
       " 'wa',\n",
       " 'proof',\n",
       " 'that',\n",
       " 'woody',\n",
       " 'allen',\n",
       " 'is',\n",
       " 'still',\n",
       " 'fully',\n",
       " 'in',\n",
       " 'control',\n",
       " 'of',\n",
       " 'the',\n",
       " 'style',\n",
       " 'many',\n",
       " 'of',\n",
       " 'u',\n",
       " 'have',\n",
       " 'grown',\n",
       " 'to',\n",
       " 'lovethis',\n",
       " 'wa',\n",
       " 'the',\n",
       " 'most',\n",
       " 'id',\n",
       " 'laughed',\n",
       " 'at',\n",
       " 'one',\n",
       " 'of',\n",
       " 'woodys',\n",
       " 'comedy',\n",
       " 'in',\n",
       " 'year',\n",
       " 'dare',\n",
       " 'i',\n",
       " 'say',\n",
       " 'a',\n",
       " 'decade',\n",
       " 'while',\n",
       " 'ive',\n",
       " 'never',\n",
       " 'been',\n",
       " 'impressed',\n",
       " 'with',\n",
       " 'scarlet',\n",
       " 'johanson',\n",
       " 'in',\n",
       " 'this',\n",
       " 'she',\n",
       " 'managed',\n",
       " 'to',\n",
       " 'tone',\n",
       " 'down',\n",
       " 'her',\n",
       " 'sexy',\n",
       " 'image',\n",
       " 'and',\n",
       " 'jumped',\n",
       " 'right',\n",
       " 'into',\n",
       " 'a',\n",
       " 'average',\n",
       " 'but',\n",
       " 'spirited',\n",
       " 'young',\n",
       " 'womanthis',\n",
       " 'may',\n",
       " 'not',\n",
       " 'be',\n",
       " 'the',\n",
       " 'crown',\n",
       " 'jewel',\n",
       " 'of',\n",
       " 'his',\n",
       " 'career',\n",
       " 'but',\n",
       " 'it',\n",
       " 'wa',\n",
       " 'wittier',\n",
       " 'than',\n",
       " 'devil',\n",
       " 'wear',\n",
       " 'prada',\n",
       " 'and',\n",
       " 'more',\n",
       " 'interesting',\n",
       " 'than',\n",
       " 'superman',\n",
       " 'a',\n",
       " 'great',\n",
       " 'comedy',\n",
       " 'to',\n",
       " 'go',\n",
       " 'see',\n",
       " 'with',\n",
       " 'friend']"
      ]
     },
     "execution_count": 102,
     "metadata": {},
     "output_type": "execute_result"
    }
   ],
   "source": [
    "df['review'][2]"
   ]
  },
  {
   "cell_type": "code",
   "execution_count": 105,
   "id": "b018a403-7491-471d-b32a-8fa308af2393",
   "metadata": {},
   "outputs": [],
   "source": [
    "df.to_csv('new_data.csv')"
   ]
  },
  {
   "cell_type": "code",
   "execution_count": 106,
   "id": "dd1909ac-b6f7-4efe-b183-d6d1d98b7194",
   "metadata": {},
   "outputs": [],
   "source": [
    "import gensim "
   ]
  },
  {
   "cell_type": "code",
   "execution_count": 107,
   "id": "761c81d3-ab70-490e-94db-0d446547564d",
   "metadata": {},
   "outputs": [
    {
     "name": "stderr",
     "output_type": "stream",
     "text": [
      "[nltk_data] Downloading package punkt_tab to\n",
      "[nltk_data]     C:\\Users\\purni\\AppData\\Roaming\\nltk_data...\n",
      "[nltk_data]   Package punkt_tab is already up-to-date!\n"
     ]
    }
   ],
   "source": [
    "from gensim.models import Word2Vec\n",
    "nltk.download('punkt_tab')\n",
    "import warnings\n",
    "\n",
    "warnings.filterwarnings(action='ignore')"
   ]
  },
  {
   "cell_type": "code",
   "execution_count": 109,
   "id": "41ad5d36-075f-40e0-b89c-0ff5a5a6c935",
   "metadata": {},
   "outputs": [],
   "source": [
    "# we just trained a model here\n",
    "from gensim.models import Word2Vec\n",
    "\n",
    "model = Word2Vec(sentences=df['review'], vector_size=300, window=10, min_count=1)\n"
   ]
  },
  {
   "cell_type": "code",
   "execution_count": 112,
   "id": "451fd439-45b2-46f2-a95e-bf6d2ddbed7d",
   "metadata": {},
   "outputs": [
    {
     "data": {
      "text/plain": [
       "0        [one, of, the, other, reviewer, ha, mentioned,...\n",
       "1        [a, wonderful, little, production, the, filmin...\n",
       "2        [i, thought, this, wa, a, wonderful, way, to, ...\n",
       "3        [basically, there, a, family, where, a, little...\n",
       "4        [petter, matteis, love, in, the, time, of, mon...\n",
       "                               ...                        \n",
       "49995    [i, thought, this, movie, did, a, down, right,...\n",
       "49996    [bad, plot, bad, dialogue, bad, acting, idioti...\n",
       "49997    [i, am, a, catholic, taught, in, parochial, el...\n",
       "49998    [im, going, to, have, to, disagree, with, the,...\n",
       "49999    [no, one, expects, the, star, trek, movie, to,...\n",
       "Name: review, Length: 50000, dtype: object"
      ]
     },
     "execution_count": 112,
     "metadata": {},
     "output_type": "execute_result"
    }
   ],
   "source": [
    "df['review']"
   ]
  },
  {
   "cell_type": "code",
   "execution_count": 113,
   "id": "ecb37b19-5e68-4abb-b2f6-c23376a12124",
   "metadata": {},
   "outputs": [
    {
     "data": {
      "text/plain": [
       "array([ 1.8030412 , -1.3310326 , -0.2090646 , -2.8181274 ,  2.7098033 ,\n",
       "        1.2373707 , -0.14654714, -1.1650914 , -1.2670012 ,  0.62975603,\n",
       "       -0.67336786, -0.22713114,  2.329426  ,  1.1799334 , -0.8869119 ,\n",
       "       -1.6618164 , -0.19228403, -1.5169019 , -0.17422067, -0.7753042 ,\n",
       "       -0.2763077 , -0.84110737, -2.0284412 ,  1.8958639 ,  1.7963184 ,\n",
       "       -0.9584241 ,  2.1367555 , -1.8221393 ,  1.9525397 ,  1.0026981 ,\n",
       "        2.42559   , -0.27388692, -0.76244664, -0.14790323, -2.8370652 ,\n",
       "        2.3073547 ,  1.2499893 , -0.23098497,  0.7324167 , -1.2935964 ,\n",
       "        1.397079  , -0.20005155, -1.1439787 ,  1.5518324 , -0.17261769,\n",
       "       -0.353639  , -1.6499768 ,  0.14994888, -0.6194855 , -1.6559391 ,\n",
       "        1.406172  , -2.2855628 ,  3.204058  , -1.6653532 ,  0.04448806,\n",
       "       -0.6450017 ,  0.45731294,  0.81550276, -0.6224888 , -0.56815326,\n",
       "        1.3035967 , -0.8779555 ,  1.5789337 , -0.67673224,  0.57362014,\n",
       "       -2.073232  , -1.6320679 , -2.2330258 ,  0.4221796 , -0.3125598 ,\n",
       "        0.5815764 , -0.5194289 ,  0.61122   , -2.852496  , -0.5969452 ,\n",
       "        0.61095077, -3.0031004 , -1.1882842 ,  0.24712023, -0.2949361 ,\n",
       "        0.35136488, -0.32652286,  1.797427  , -0.778119  , -2.4274397 ,\n",
       "       -0.8486801 , -0.3568487 ,  1.4034045 ,  0.8642367 , -0.67606664,\n",
       "       -1.6462519 , -0.29251066, -0.32992905, -2.181547  ,  1.2172942 ,\n",
       "       -0.2904967 ,  0.8692737 ,  1.6781161 , -0.6518755 ,  0.3601883 ,\n",
       "       -0.05057189,  0.7216925 ,  1.0251881 , -1.9216379 , -0.8901807 ,\n",
       "        1.9468054 , -0.2143941 ,  0.0241823 , -0.7543099 ,  1.1298368 ,\n",
       "        0.85683256, -2.4576466 ,  0.07963262, -0.7798367 , -2.2780938 ,\n",
       "       -2.2066028 , -0.12104315, -3.4738796 , -0.5365975 , -1.5877111 ,\n",
       "        0.95230806,  0.32430756,  0.6616715 ,  1.264442  , -2.7905874 ,\n",
       "        0.3955391 ,  1.0383315 ,  0.90013415,  2.5811422 , -0.77051884,\n",
       "        1.9018098 , -1.0386494 , -0.7805067 , -1.3903904 , -0.8026886 ,\n",
       "        0.8715193 ,  0.08060179, -0.57597166,  0.39999184, -1.7290459 ,\n",
       "       -1.7097076 ,  3.041918  , -0.9934657 , -0.28550088, -1.7608316 ,\n",
       "       -1.2269673 ,  0.7381389 ,  0.8007448 , -2.3713892 ,  2.1582172 ,\n",
       "        0.11298533,  0.4202465 , -0.9649745 ,  2.095365  , -1.1144251 ,\n",
       "        0.16269892, -0.36296633,  0.23354635,  1.134998  ,  3.476132  ,\n",
       "        2.3539588 ,  1.4085739 ,  1.5506432 ,  1.0563108 , -0.34650412,\n",
       "       -0.35893345, -1.485328  , -2.9890382 ,  2.3242717 ,  0.8826419 ,\n",
       "       -0.2877724 , -0.40723905,  0.24782419, -0.2721067 , -1.5616279 ,\n",
       "       -2.218087  , -1.1448907 , -0.4877603 , -0.40406892,  2.1092615 ,\n",
       "       -0.3254123 ,  1.6609032 ,  0.6689619 , -3.0236838 ,  2.0723302 ,\n",
       "        0.7144586 , -2.2076712 , -0.1933055 ,  0.51427364,  0.20759252,\n",
       "       -1.2895186 , -2.4177566 ,  1.5064479 , -2.1909623 ,  2.0385065 ,\n",
       "        2.2995641 ,  0.47893342,  0.8645561 ,  1.0192696 ,  3.216134  ,\n",
       "        1.0845559 ,  2.3151414 ,  0.65959346,  0.26273456, -0.6141285 ,\n",
       "        1.517031  , -0.35499868, -0.2754282 , -1.3265108 , -0.06908518,\n",
       "       -1.3398027 , -1.692277  ,  3.1144357 ,  0.6293899 , -0.81336963,\n",
       "       -1.4437675 , -0.91079277, -3.2646718 , -1.416711  ,  1.8971136 ,\n",
       "       -1.6723334 , -0.20154917,  0.3527791 , -1.5832102 ,  0.78236157,\n",
       "       -0.05901807,  1.0807036 ,  1.490711  ,  2.498488  , -1.1668046 ,\n",
       "       -1.0328214 , -0.95571923, -0.9839075 ,  2.7867217 , -0.37868777,\n",
       "        0.07597035, -0.22875415,  0.17979963,  0.47353548, -1.5809985 ,\n",
       "        1.8175231 ,  0.2120027 , -0.28341216,  0.26186165,  1.5195291 ,\n",
       "       -0.93691885, -0.06548766, -0.53621906, -1.8949503 , -2.1450381 ,\n",
       "        0.09964605, -1.0088469 ,  1.1124781 , -0.43374246, -0.3492869 ,\n",
       "       -0.8711288 , -0.6401131 , -0.99755454, -0.87054175, -0.3243575 ,\n",
       "        0.02193925, -1.1151085 ,  1.3254886 ,  0.86098504, -0.3284837 ,\n",
       "        0.5175319 , -1.7699901 , -0.5151762 ,  1.3313614 ,  1.5490252 ,\n",
       "       -0.7295592 ,  2.2027397 , -2.2992404 , -1.2443943 ,  0.03991907,\n",
       "       -1.7481151 , -0.06937202,  1.2704793 ,  0.30739662, -1.6017984 ,\n",
       "        0.48543128,  2.1423316 ,  1.1491088 , -1.3079278 , -0.382407  ,\n",
       "        1.8966243 ,  0.02535264, -0.68608016,  0.5468488 ,  0.40278327,\n",
       "       -0.61461705,  0.00571788,  0.52207726, -2.8785512 ,  0.1337349 ,\n",
       "        0.46888414, -0.76469284, -0.14245287,  0.44277555,  1.2939922 ],\n",
       "      dtype=float32)"
      ]
     },
     "execution_count": 113,
     "metadata": {},
     "output_type": "execute_result"
    }
   ],
   "source": [
    "model.wv['good']"
   ]
  },
  {
   "cell_type": "code",
   "execution_count": 114,
   "id": "c12b9735-d374-45ed-8c79-f4b250e16ede",
   "metadata": {},
   "outputs": [
    {
     "data": {
      "text/plain": [
       "[('incredible', 0.8086345195770264),\n",
       " ('fantastic', 0.7650856375694275),\n",
       " ('awesome', 0.7137904167175293),\n",
       " ('outstanding', 0.7110523581504822),\n",
       " ('wonderful', 0.7031247615814209),\n",
       " ('excellent', 0.6966684460639954),\n",
       " ('exceptional', 0.6629415154457092),\n",
       " ('superb', 0.6598924994468689),\n",
       " ('stunning', 0.6583801507949829),\n",
       " ('astounding', 0.6567486524581909)]"
      ]
     },
     "execution_count": 114,
     "metadata": {},
     "output_type": "execute_result"
    }
   ],
   "source": [
    "model.wv.most_similar('amazing')"
   ]
  },
  {
   "cell_type": "code",
   "execution_count": 117,
   "id": "7522cefb-3715-46e8-b762-e41b13c315ff",
   "metadata": {},
   "outputs": [],
   "source": [
    "#  ex of usage\n",
    "word_vec = model.wv['great'] "
   ]
  },
  {
   "cell_type": "code",
   "execution_count": 118,
   "id": "8732ba9a-f3aa-425b-8042-1ec1e9a8eba6",
   "metadata": {},
   "outputs": [
    {
     "data": {
      "text/plain": [
       "array([ 1.3092171 ,  0.377373  , -1.5869906 , -0.86370105,  1.5020097 ,\n",
       "       -0.67965114,  0.7203828 ,  0.06218539, -1.5451415 , -1.1580224 ,\n",
       "        1.6286783 , -1.0272133 ,  1.8059636 ,  0.25728172,  0.10262953,\n",
       "       -1.5843775 , -0.13959262, -0.03456731,  1.2969719 ,  0.06870357,\n",
       "       -0.38802534, -1.8219417 , -0.56087995,  1.4106907 , -0.36828727,\n",
       "        0.2840256 ,  0.9253408 , -0.92759687, -0.06247895,  1.0523652 ,\n",
       "        1.1428676 ,  1.09547   , -0.5455598 ,  0.34170997, -2.9850538 ,\n",
       "        0.40131736,  0.40544465, -0.7044069 , -0.11977758, -1.7564292 ,\n",
       "        0.80661434, -1.1692702 ,  0.17690423,  1.827175  ,  0.24783476,\n",
       "        1.7518973 , -0.6335712 , -0.7145091 , -0.06755887,  0.10084895,\n",
       "        0.07080441, -0.8139971 ,  2.8290246 , -0.3905119 ,  0.23574828,\n",
       "       -2.1539273 ,  1.9993786 ,  1.2809936 , -1.3975507 ,  0.22347881,\n",
       "        1.0248101 ,  0.224705  ,  2.0903368 , -0.5054512 , -0.84429276,\n",
       "       -0.28608242, -2.403257  , -0.86850435,  0.8259633 , -0.1882338 ,\n",
       "       -1.6841315 ,  1.7597702 ,  0.5979706 , -1.4267374 , -0.4373615 ,\n",
       "        0.87998044, -1.9082117 , -0.8668349 ,  0.558132  , -1.3237288 ,\n",
       "        0.07855637, -1.3951306 ,  0.25109336, -1.1303805 , -3.2042913 ,\n",
       "       -2.0911841 , -0.03049014,  2.2208617 , -0.605881  , -0.03383496,\n",
       "       -1.7070903 ,  1.196874  , -0.17621166,  0.346576  , -0.6001057 ,\n",
       "       -1.180506  , -0.18186107,  0.7785553 ,  0.9298346 ,  1.105993  ,\n",
       "        1.749587  , -0.36664048,  2.3126392 , -0.8205384 ,  0.8189053 ,\n",
       "        2.840149  ,  1.1486831 , -0.389753  , -1.4490651 , -1.3589015 ,\n",
       "        0.0370166 , -2.1690338 ,  0.3563784 ,  0.26320598, -2.2886076 ,\n",
       "        0.10643633, -1.1937797 , -2.4520514 , -1.5978726 , -0.8173084 ,\n",
       "        1.1764225 ,  0.7337192 ,  0.7183058 ,  0.9618353 , -1.8859221 ,\n",
       "       -0.6474475 ,  0.6470205 ,  4.2219996 ,  0.9633409 , -0.38183457,\n",
       "        2.688327  , -1.8681033 ,  0.40783346,  0.39318937, -0.04942542,\n",
       "        0.7979565 ,  0.742258  , -0.7167266 , -1.1406971 ,  0.25691566,\n",
       "       -0.83970547,  1.2167023 , -0.5882595 , -0.77097666, -0.3970413 ,\n",
       "       -1.0302168 , -0.1631678 ,  0.63426083, -1.3150469 ,  0.8376604 ,\n",
       "       -0.19243953,  2.1290474 , -0.8684564 ,  1.6067139 , -0.3824385 ,\n",
       "       -0.7838292 , -0.51047635, -0.9549935 ,  2.247855  ,  2.0315042 ,\n",
       "        2.3252754 , -0.7881995 , -0.01131379, -0.13049963, -1.3217893 ,\n",
       "        0.46850654,  0.17504781, -1.3483698 ,  2.2015245 , -0.22743462,\n",
       "        0.495255  , -0.60742956,  2.5407014 ,  0.51723087, -1.2502257 ,\n",
       "        0.09444742,  1.0435506 ,  0.36405024,  0.8362492 ,  0.41375756,\n",
       "       -0.889516  ,  1.1333522 ,  0.5512473 , -1.771648  ,  1.5974025 ,\n",
       "        0.5750883 , -2.0758545 , -0.6608758 ,  0.8087628 , -0.1205545 ,\n",
       "        0.89052606, -1.645338  ,  0.05419401, -0.47536594,  0.88366455,\n",
       "        1.5851188 , -0.6194447 , -1.3440455 , -1.0348747 ,  2.3451111 ,\n",
       "       -0.9720367 ,  3.4162145 ,  0.42271394, -1.0432494 , -0.81368273,\n",
       "        0.68669826, -0.06169849,  1.0002825 , -1.2548819 , -0.38788903,\n",
       "       -1.2484819 , -0.98961127,  2.8974047 , -1.421588  , -0.12426724,\n",
       "       -1.0629286 ,  1.7201794 , -2.816583  ,  0.15759712,  0.07265545,\n",
       "       -1.109702  ,  0.96515286, -0.5412083 , -1.9573538 , -1.5678176 ,\n",
       "       -0.35704103,  0.22127168,  1.2821913 ,  0.97932315, -0.4052538 ,\n",
       "       -0.9059755 , -0.5612618 , -1.873434  ,  1.5994864 ,  0.5629257 ,\n",
       "        0.02883644,  0.08816522, -0.9184436 ,  0.28141034, -3.0525403 ,\n",
       "        0.08426442,  1.1002556 ,  0.30819985, -1.0639157 , -0.14689894,\n",
       "       -0.9910717 , -0.841414  ,  1.7652793 , -1.4983178 , -2.128922  ,\n",
       "        0.5368809 , -1.4156921 ,  1.246117  ,  0.0585291 , -1.2355001 ,\n",
       "       -0.92230016,  0.98928124, -1.4282315 , -0.13249338, -1.5989892 ,\n",
       "       -2.4734337 , -1.7529625 ,  2.0895996 ,  1.1876549 , -1.2555141 ,\n",
       "        2.5051777 , -1.1435542 ,  1.3649926 ,  1.6326295 ,  1.3971046 ,\n",
       "        1.7769654 ,  0.851688  , -2.031082  , -0.9535405 , -0.73678684,\n",
       "       -1.939303  , -0.98184043,  1.790777  ,  1.9216956 , -0.60305935,\n",
       "       -1.5948567 ,  0.26589736,  0.25413975, -1.4065558 ,  0.03076314,\n",
       "        1.7458651 , -0.36696777,  0.24775335, -0.38900664,  0.8307356 ,\n",
       "       -1.3903885 , -1.4467453 , -0.74869686, -0.7276536 , -0.83261424,\n",
       "        2.0761623 , -1.617153  ,  0.11381705, -0.42648762,  0.9456713 ],\n",
       "      dtype=float32)"
      ]
     },
     "execution_count": 118,
     "metadata": {},
     "output_type": "execute_result"
    }
   ],
   "source": [
    "word_vec"
   ]
  },
  {
   "cell_type": "code",
   "execution_count": 119,
   "id": "f7eba65f-5b15-437e-a9af-dfbbcd378fa1",
   "metadata": {},
   "outputs": [],
   "source": [
    "# here we converted each review to a sequence of vectors \n",
    "import numpy as np\n",
    "def review_to_vectors(tokens, model):\n",
    "    return np.array([model.wv[word] for word in tokens if word in model.wv])\n"
   ]
  },
  {
   "cell_type": "code",
   "execution_count": 120,
   "id": "0172bb75-4196-4ac6-9e08-4da17c728dde",
   "metadata": {},
   "outputs": [
    {
     "name": "stdout",
     "output_type": "stream",
     "text": [
      "Max length: 2450\n",
      "Average length: 226.33286\n",
      "90th percentile length: 442.0\n"
     ]
    }
   ],
   "source": [
    "review_lengths = df['review'].apply(len)\n",
    "\n",
    "print(\"Max length:\", review_lengths.max())\n",
    "print(\"Average length:\", review_lengths.mean())\n",
    "print(\"90th percentile length:\", review_lengths.quantile(0.9))\n"
   ]
  }
 ],
 "metadata": {
  "kernelspec": {
   "display_name": "Python 3 (ipykernel)",
   "language": "python",
   "name": "python3"
  },
  "language_info": {
   "codemirror_mode": {
    "name": "ipython",
    "version": 3
   },
   "file_extension": ".py",
   "mimetype": "text/x-python",
   "name": "python",
   "nbconvert_exporter": "python",
   "pygments_lexer": "ipython3",
   "version": "3.9.13"
  }
 },
 "nbformat": 4,
 "nbformat_minor": 5
}
